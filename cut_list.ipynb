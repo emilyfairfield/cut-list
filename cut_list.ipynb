{
 "cells": [
  {
   "cell_type": "code",
   "execution_count": 8,
   "metadata": {},
   "outputs": [],
   "source": [
    "import numpy as np\n",
    "import pandas as pd\n",
    "import matplotlib.pyplot as plt\n",
    "import cvxpy as cp"
   ]
  },
  {
   "cell_type": "markdown",
   "metadata": {},
   "source": [
    "Checking that I can get example problem from cvxpy documentation (https://www.cvxpy.org/examples/basic/mixed_integer_quadratic_program.html#basic-examples) to run:"
   ]
  },
  {
   "cell_type": "code",
   "execution_count": 9,
   "metadata": {},
   "outputs": [
    {
     "data": {
      "text/plain": [
       "13.66000325196205"
      ]
     },
     "execution_count": 9,
     "metadata": {},
     "output_type": "execute_result"
    }
   ],
   "source": [
    "# Generate a random problem\n",
    "np.random.seed(0)\n",
    "m, n= 40, 25\n",
    "\n",
    "A = np.random.rand(m, n)\n",
    "b = np.random.randn(m)\n",
    "\n",
    "# Construct a CVXPY problem\n",
    "x = cp.Variable(n, integer=True)\n",
    "objective = cp.Minimize(cp.sum_squares(A @ x - b))\n",
    "prob = cp.Problem(objective)\n",
    "prob.solve()"
   ]
  },
  {
   "cell_type": "code",
   "execution_count": 10,
   "metadata": {},
   "outputs": [
    {
     "name": "stdout",
     "output_type": "stream",
     "text": [
      "Status:  optimal\n",
      "The optimal value is 13.66000325196205\n",
      "A solution x is\n",
      "[-1.  1.  1. -1.  0.  0. -1. -2.  0.  0.  0.  1.  1.  0.  1.  0. -1. -1.\n",
      " -1.  0.  2. -1.  2.  0. -1.]\n"
     ]
    }
   ],
   "source": [
    "print(\"Status: \", prob.status)\n",
    "print(\"The optimal value is\", prob.value)\n",
    "print(\"A solution x is\")\n",
    "print(x.value)"
   ]
  },
  {
   "cell_type": "markdown",
   "metadata": {},
   "source": [
    "Now I'll adapt the example to match my problem:"
   ]
  },
  {
   "cell_type": "code",
   "execution_count": 30,
   "metadata": {},
   "outputs": [],
   "source": [
    "#User Inputs:\n",
    "#Dimensions of BOM items:\n",
    "a = np.array([5,5,10,9,10]) #longest dimension\n",
    "b = np.array([4,5,1,5,5]) #mid dimension\n",
    "c = np.array([0.5,0.5,0.5,0.5,0.5]) #smallest dimension\n",
    "\n",
    "#Dimensions of UNIQUE stock items available for purchase:\n",
    "l = np.array([15,15]) #longest dimension\n",
    "w = np.array([10,15]) #mid dimension\n",
    "h = np.array([0.5,0.5]) #smallest dimension\n",
    "\n",
    "#Prices of UNIQUE stock items available for purchase:\n",
    "prices = [30,40]\n",
    "\n",
    "#Dimension info:\n",
    "n = len(a) #Total number of items on BOM\n",
    "m = n * len(l) #Upper limit of stock items we'll have to buy\n",
    "\n",
    "#Adjust dimensions of p / replicate each stock board n-1 times:\n",
    "p = []\n",
    "for price in prices:\n",
    "    for i in range(n):\n",
    "        p.append(price)\n",
    "\n",
    "p = np.array(p)"
   ]
  },
  {
   "cell_type": "code",
   "execution_count": 31,
   "metadata": {},
   "outputs": [],
   "source": [
    "#Decision Variables:\n",
    "u = cp.Variable((n,m),boolean=True)\n",
    "x = cp.Variable((n,),nonneg=True)\n",
    "y = cp.Variable((n,),nonneg=True)\n",
    "r = cp.Variable((n,),boolean=True)"
   ]
  },
  {
   "cell_type": "code",
   "execution_count": 32,
   "metadata": {},
   "outputs": [],
   "source": [
    "#Intermediate Variables:\n",
    "q = cp.Variable((m,),boolean=True)\n",
    "s = cp.Variable((n,n),boolean=True)\n",
    "t = cp.Variable((n,n),boolean=True)\n",
    "v = cp.Variable((n,n),boolean=True)\n",
    "d = cp.Variable((n,n),boolean=True)\n",
    "f = cp.Variable((n,n),boolean=True)\n",
    "g = cp.Variable((n,n),boolean=True)"
   ]
  },
  {
   "cell_type": "code",
   "execution_count": 33,
   "metadata": {},
   "outputs": [],
   "source": [
    "#Objective Function:\n",
    "objective = cp.Minimize(cp.sum(cp.multiply(p, q)))"
   ]
  },
  {
   "cell_type": "code",
   "execution_count": 34,
   "metadata": {},
   "outputs": [
    {
     "ename": "ValueError",
     "evalue": "operands could not be broadcast together with shapes (5,) (2,) ",
     "output_type": "error",
     "traceback": [
      "\u001b[1;31m---------------------------------------------------------------------------\u001b[0m",
      "\u001b[1;31mValueError\u001b[0m                                Traceback (most recent call last)",
      "Cell \u001b[1;32mIn[34], line 4\u001b[0m\n\u001b[0;32m      1\u001b[0m \u001b[38;5;66;03m#Constraints:\u001b[39;00m\n\u001b[0;32m      2\u001b[0m constraints \u001b[38;5;241m=\u001b[39m [\n\u001b[0;32m      3\u001b[0m     cp\u001b[38;5;241m.\u001b[39msum(u, axis\u001b[38;5;241m=\u001b[39m\u001b[38;5;241m1\u001b[39m) \u001b[38;5;241m==\u001b[39m \u001b[38;5;241m1\u001b[39m, \u001b[38;5;66;03m#constr. 1\u001b[39;00m\n\u001b[1;32m----> 4\u001b[0m     cp\u001b[38;5;241m.\u001b[39msum(u \u001b[38;5;241m<\u001b[39m\u001b[38;5;241m=\u001b[39m \u001b[43mc\u001b[49m\u001b[38;5;241;43m/\u001b[39;49m\u001b[43mh\u001b[49m) \u001b[38;5;241m==\u001b[39m n\u001b[38;5;241m*\u001b[39mm, \u001b[38;5;66;03m#2a\u001b[39;00m\n\u001b[0;32m      5\u001b[0m     cp\u001b[38;5;241m.\u001b[39msum(u \u001b[38;5;241m<\u001b[39m\u001b[38;5;241m=\u001b[39m h\u001b[38;5;241m/\u001b[39mc) \u001b[38;5;241m==\u001b[39m n\u001b[38;5;241m*\u001b[39mm, \u001b[38;5;66;03m#2b\u001b[39;00m\n\u001b[0;32m      6\u001b[0m     q \u001b[38;5;241m>\u001b[39m\u001b[38;5;241m=\u001b[39m cp\u001b[38;5;241m.\u001b[39msum(u, axis\u001b[38;5;241m=\u001b[39m\u001b[38;5;241m0\u001b[39m) \u001b[38;5;241m/\u001b[39m n, \u001b[38;5;66;03m#3\u001b[39;00m\n\u001b[0;32m      7\u001b[0m     v \u001b[38;5;241m==\u001b[39m s \u001b[38;5;241m+\u001b[39m t \u001b[38;5;66;03m#4a\u001b[39;00m\n\u001b[0;32m      8\u001b[0m ]\n\u001b[0;32m     10\u001b[0m \u001b[38;5;66;03m#https://stackoverflow.com/questions/53839771/how-to-tell-cvxpy-how-to-sum-over-values-of-a-matrix-in-an-objective-function:\u001b[39;00m\n\u001b[0;32m     11\u001b[0m \u001b[38;5;28;01mfor\u001b[39;00m i \u001b[38;5;129;01min\u001b[39;00m \u001b[38;5;28mrange\u001b[39m(n):\n",
      "\u001b[1;31mValueError\u001b[0m: operands could not be broadcast together with shapes (5,) (2,) "
     ]
    }
   ],
   "source": [
    "#Constraints:\n",
    "constraints = [\n",
    "    cp.sum(u, axis=1) == 1, #constr. 1\n",
    "    cp.sum(u <= c/h) == n*m, #2a\n",
    "    cp.sum(u <= h/c) == n*m, #2b\n",
    "    q >= cp.sum(u, axis=0) / n, #3\n",
    "    v == s + t #4a\n",
    "]\n",
    "\n",
    "#https://stackoverflow.com/questions/53839771/how-to-tell-cvxpy-how-to-sum-over-values-of-a-matrix-in-an-objective-function:\n",
    "for i in range(n):\n",
    "    for k in range(n):\n",
    "        if i != k:\n",
    "            constraints.append(s[i,k] <= (y[k] + 1) / (y[i] + (1-r[i])*a[i] + r[i]*b[i] + 1))"
   ]
  },
  {
   "cell_type": "code",
   "execution_count": null,
   "metadata": {},
   "outputs": [],
   "source": [
    "problem = cp.Problem(objective, constraints)\n",
    "problem.solve()\n",
    "print(\"Optimal value: \",problem.value)\n",
    "print(\"Optimal u: \",u.value)\n",
    "print(\"Optimal x: \",x.value)\n",
    "print(\"Optimal y: \",y.value)\n",
    "print(\"Optimal r: \",r.value)"
   ]
  }
 ],
 "metadata": {
  "kernelspec": {
   "display_name": "cut_list_env",
   "language": "python",
   "name": "python3"
  },
  "language_info": {
   "codemirror_mode": {
    "name": "ipython",
    "version": 3
   },
   "file_extension": ".py",
   "mimetype": "text/x-python",
   "name": "python",
   "nbconvert_exporter": "python",
   "pygments_lexer": "ipython3",
   "version": "3.10.11"
  }
 },
 "nbformat": 4,
 "nbformat_minor": 2
}
