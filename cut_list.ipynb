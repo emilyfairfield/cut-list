{
 "cells": [
  {
   "cell_type": "markdown",
   "metadata": {},
   "source": [
    "https://pyscipopt.readthedocs.io/_/downloads/en/latest/pdf/"
   ]
  },
  {
   "cell_type": "code",
   "execution_count": 1,
   "metadata": {},
   "outputs": [],
   "source": [
    "# from pyscipopt import Model\n",
    "# # Create the SCIP model\n",
    "# model = Model(\"MIQCP Example\")\n",
    "\n",
    "# # Define variables\n",
    "# x = model.addVar(\"x\", vtype=\"BINARY\")\n",
    "# y = model.addVar(\"y\", vtype=\"INTEGER\", lb=0, ub=10)\n",
    "# z = model.addVar(\"z\", vtype=\"CONTINUOUS\", lb=-5, ub=5)\n",
    "\n",
    "# # Set objective function\n",
    "# model.setObjective(2*x + 3*y - z, sense=\"maximize\")\n",
    "\n",
    "# # Add constraints\n",
    "# model.addCons(x + y + z <= 15, \"c1\")\n",
    "# model.addCons(x + 2*y + z*z <= 20, \"c2\") # Quadratic constraint\n",
    "# model.addCons(x - y >= 1, \"c3\")\n",
    "\n",
    "# # Solve the model\n",
    "# model.optimize()\n",
    "\n",
    "# print(model.getStatus())\n",
    "\n",
    "# # Print solution\n",
    "# if model.getStatus() == \"optimal\":\n",
    "#     print(\"Optimal solution found:\")\n",
    "#     print(\"x =\", model.getVal(x))\n",
    "#     print(\"y =\", model.getVal(y))\n",
    "#     print(\"z =\", model.getVal(z))\n",
    "#     print(\"Objective value =\", model.getObjVal())\n",
    "# else:\n",
    "    # print(\"No solution found or optimization failed.\")"
   ]
  },
  {
   "cell_type": "markdown",
   "metadata": {},
   "source": [
    "Using example from https://pyscipopt.readthedocs.io/en/latest/tutorials/model.html to check that it runs / my environment is set up correctly:"
   ]
  },
  {
   "cell_type": "code",
   "execution_count": 2,
   "metadata": {},
   "outputs": [],
   "source": [
    "# from pyscipopt import Model\n",
    "# scip = Model()\n",
    "# x = scip.addVar(vtype='C', lb=0, ub=None, name='x')\n",
    "# y = scip.addVar(vtype='C', lb=0, ub=None, name='y')\n",
    "# z = scip.addVar(vtype='C', lb=0, ub=80, name='z')\n",
    "# cons_1 = scip.addCons(x + y <= 5, name=\"cons_1\")\n",
    "# cons_1 = scip.addCons(y + z >= 3, name=\"cons_2\")\n",
    "# cons_1 = scip.addCons(x + y == 5, name=\"cons_3\")\n",
    "# scip.setObjective(2 * x + 3 * y - 5 * z, sense=\"minimize\")\n",
    "# scip.optimize()\n",
    "\n",
    "# solve_time = scip.getSolvingTime()\n",
    "# num_nodes = scip.getNTotalNodes() # Note that getNNodes() is only the number of nodes for the current run (resets at restart)\n",
    "# obj_val = scip.getObjVal()\n",
    "# for scip_var in [x, y, z]:\n",
    "#     print(f\"Variable {scip_var.name} has value {scip.getVal(scip_var)}\")"
   ]
  },
  {
   "cell_type": "markdown",
   "metadata": {},
   "source": [
    "Now adapting it for my problem:"
   ]
  },
  {
   "cell_type": "code",
   "execution_count": 3,
   "metadata": {},
   "outputs": [],
   "source": [
    "from pyscipopt import Model, quicksum\n",
    "import numpy as np\n",
    "import pandas as pd\n",
    "import matplotlib.pyplot as plt"
   ]
  },
  {
   "cell_type": "code",
   "execution_count": 4,
   "metadata": {},
   "outputs": [],
   "source": [
    "scip = Model()"
   ]
  },
  {
   "cell_type": "markdown",
   "metadata": {},
   "source": [
    "User Inputs:"
   ]
  },
  {
   "cell_type": "code",
   "execution_count": 5,
   "metadata": {},
   "outputs": [],
   "source": [
    "#Dimensions of BOM items:\n",
    "a = np.array([5,5,10,9,10]) #longest dimension\n",
    "b = np.array([4,5,1,5,5]) #mid dimension\n",
    "c = np.array([0.5,0.5,0.5,0.5,0.5]) #smallest dimension\n",
    "\n",
    "#Dimensions of UNIQUE stock items available for purchase:\n",
    "l = np.array([15,15]) #longest dimension\n",
    "w = np.array([10,15]) #mid dimension\n",
    "h = np.array([0.5,0.5]) #smallest dimension\n",
    "\n",
    "#Prices of UNIQUE stock items available for purchase:\n",
    "prices = [30,40]\n",
    "\n",
    "#Variable dimension info:\n",
    "n = len(a) #Total number of items on BOM\n",
    "m = n * len(l) #Upper limit of stock items we'll have to buy\n",
    "\n",
    "#Adjust l, w, h to be proper dimensions (using n):\n",
    "new_l = []\n",
    "for length in l:\n",
    "    for i in range(n):\n",
    "        new_l.append(length)\n",
    "l = new_l\n",
    "\n",
    "new_w = []\n",
    "for width in w:\n",
    "    for i in range(n):\n",
    "        new_w.append(width)\n",
    "w = new_w\n",
    "\n",
    "new_h = []\n",
    "for height in h:\n",
    "    for i in range(n):\n",
    "        new_h.append(height)\n",
    "h = new_h\n",
    "\n",
    "#Adjust dimensions of p / replicate each stock board n-1 times:\n",
    "p = []\n",
    "for price in prices:\n",
    "    for i in range(n):\n",
    "        p.append(price)\n",
    "\n",
    "p = np.array(p)"
   ]
  },
  {
   "cell_type": "markdown",
   "metadata": {},
   "source": [
    "#https://pyscipopt.readthedocs.io/en/latest/tutorials/vartypes.html#variable-types"
   ]
  },
  {
   "cell_type": "markdown",
   "metadata": {},
   "source": [
    "Decision Variables:"
   ]
  },
  {
   "cell_type": "code",
   "execution_count": 6,
   "metadata": {},
   "outputs": [],
   "source": [
    "u_array = np.zeros((n, m), dtype=object)\n",
    "for i in range(n):\n",
    "    for j in range(m):\n",
    "        u_array[i][j] = scip.addVar(vtype='B', name=f\"u_{i}_{j}\")\n",
    "\n",
    "x_array = np.zeros((n,),dtype=object)\n",
    "for i in range(n):\n",
    "    x_array[i] = scip.addVar(vtype='C',lb=0, ub=None, name=f\"x_{i}\")\n",
    "\n",
    "y_array = np.zeros((n,),dtype=object)\n",
    "for i in range(n):\n",
    "    y_array[i] = scip.addVar(vtype='C',lb=0, ub=None, name=f\"y_{i}\")\n",
    "\n",
    "r_array = np.zeros((n,),dtype=object)\n",
    "for i in range(n):\n",
    "    r_array[i] = scip.addVar(vtype='B', name=f\"r_{i}\")"
   ]
  },
  {
   "cell_type": "markdown",
   "metadata": {},
   "source": [
    "Intermediate Variables:"
   ]
  },
  {
   "cell_type": "code",
   "execution_count": 7,
   "metadata": {},
   "outputs": [],
   "source": [
    "q_array = np.zeros((m,),dtype=object)\n",
    "for j in range(m):\n",
    "    q_array[j] = scip.addVar(vtype='B', name=f\"q_{j}\")\n",
    "\n",
    "s_array = np.zeros((n, n), dtype=object)\n",
    "for i in range(n):\n",
    "    for k in range(n):\n",
    "        s_array[i][k] = scip.addVar(vtype='B', name=f\"s_{i}_{k}\")\n",
    "\n",
    "t_array = np.zeros((n, n), dtype=object)\n",
    "for i in range(n):\n",
    "    for k in range(n):\n",
    "        t_array[i][k] = scip.addVar(vtype='B', name=f\"t_{i}_{k}\")\n",
    "\n",
    "v_array = np.zeros((n, n), dtype=object)\n",
    "for i in range(n):\n",
    "    for k in range(n):\n",
    "        v_array[i][k] = scip.addVar(vtype='B', name=f\"v_{i}_{k}\")\n",
    "\n",
    "d_array = np.zeros((n, n), dtype=object)\n",
    "for i in range(n):\n",
    "    for k in range(n):\n",
    "        d_array[i][k] = scip.addVar(vtype='B', name=f\"d_{i}_{k}\")\n",
    "\n",
    "f_array = np.zeros((n, n), dtype=object)\n",
    "for i in range(n):\n",
    "    for k in range(n):\n",
    "        f_array[i][k] = scip.addVar(vtype='B', name=f\"f_{i}_{k}\")\n",
    "\n",
    "g_array = np.zeros((n, n), dtype=object)\n",
    "for i in range(n):\n",
    "    for k in range(n):\n",
    "        g_array[i][k] = scip.addVar(vtype='B', name=f\"g_{i}_{k}\")"
   ]
  },
  {
   "cell_type": "markdown",
   "metadata": {},
   "source": [
    "Constraints:"
   ]
  },
  {
   "cell_type": "code",
   "execution_count": 8,
   "metadata": {},
   "outputs": [],
   "source": [
    "#1. All BOM items must be cut exactly once / from exactly one stock board:\n",
    "constr_1 = np.zeros((n,), dtype=object)\n",
    "for i in range(n):\n",
    "    constr_1[i] = scip.addCons(quicksum(u_array[i][j] for j in range(m)) == 1, name=f\"constr_1_{i}\")"
   ]
  },
  {
   "cell_type": "code",
   "execution_count": 9,
   "metadata": {},
   "outputs": [],
   "source": [
    "#2. The thickness (smallest dimension) of each BOM item must match that of the stock item from which it's cut\n",
    "#2a.\n",
    "constr_2a = np.zeros((n,m), dtype=object)\n",
    "for i in range(n):\n",
    "    for j in range(m):\n",
    "        constr_2a[i][j] = scip.addCons(u_array[i][j] <= c[i]/h[j], name=f\"constr_2a_{i}_{j}\")\n",
    "\n",
    "#2b.\n",
    "constr_2b = np.zeros((n,m), dtype=object)\n",
    "for i in range(n):\n",
    "    for j in range(m):\n",
    "        constr_2b[i][j] = scip.addCons(u_array[i][j] <= h[j]/c[i], name=f\"constr_2b_{i}_{j}\")"
   ]
  },
  {
   "cell_type": "code",
   "execution_count": 10,
   "metadata": {},
   "outputs": [],
   "source": [
    "#3. If any BOM items are planned to be cut from stock board j, we must buy stock board j:\n",
    "constr_3 = np.zeros((m,), dtype=object)\n",
    "for j in range(m):\n",
    "    constr_3[j] = scip.addCons(q_array[j] >= quicksum(u_array[i][j] for i in range(n))/n, name=\"constr_3_{j}\")"
   ]
  },
  {
   "cell_type": "code",
   "execution_count": null,
   "metadata": {},
   "outputs": [],
   "source": [
    "#4. BOM items cannot exceed the boundaries of the stock board from which they're cut:\n",
    "constr_4a = np.zeros((n,n), dtype=object)\n",
    "for i in range(n):\n",
    "    for k in range(n):\n",
    "        if i != k:\n",
    "            constr_4a[i][k] = scip.addCons(v_array[i][k] == s_array[i][k] + t_array[i][k], name=\"constr_4a_{i}_{k}\")\n",
    "\n",
    "constr_4c = np.zeros((n,n), dtype=object)\n",
    "for i in range(n):\n",
    "    for k in range(n):\n",
    "        if i != k:\n",
    "            constr_4c[i][k] = scip.addCons(s_array[i][k] <= (y_array[k] + 1) / (y_array[i] + (1-r_array[i])*a[i] + r_array[i]*b[i]+1), name=\"constr_4c_{i}_{k}\")\n",
    "\n",
    "constr_4d = np.zeros((n,n), dtype=object)\n",
    "for i in range(n):\n",
    "    for k in range(n):\n",
    "        if i != k:\n",
    "            constr_4d[i][k] = scip.addCons(s_array[i][k] >= y_array[k] - (y_array[i] + (1-r_array[i])*a[i] + r_array*b[i]), name=\"constr_4d_{i}_{k}\")\n"
   ]
  },
  {
   "cell_type": "markdown",
   "metadata": {},
   "source": [
    "Objective Function:"
   ]
  },
  {
   "cell_type": "code",
   "execution_count": 12,
   "metadata": {},
   "outputs": [],
   "source": [
    "scip.setObjective(quicksum(p[j]*q_array[j] for j in range(m)), sense=\"minimize\")"
   ]
  },
  {
   "cell_type": "code",
   "execution_count": 13,
   "metadata": {},
   "outputs": [],
   "source": [
    "scip.optimize()"
   ]
  },
  {
   "cell_type": "code",
   "execution_count": 14,
   "metadata": {},
   "outputs": [
    {
     "name": "stdout",
     "output_type": "stream",
     "text": [
      "solve_time:  0.0\n",
      "num_nodes:  1\n",
      "obj_val:  30.0\n"
     ]
    }
   ],
   "source": [
    "solve_time = scip.getSolvingTime()\n",
    "num_nodes = scip.getNTotalNodes() # Note that getNNodes() is only the number of nodes for the current run (resets at restart)\n",
    "obj_val = scip.getObjVal()\n",
    "\n",
    "print(\"solve_time: \",solve_time)\n",
    "print(\"num_nodes: \",num_nodes)\n",
    "print(\"obj_val: \",obj_val)\n",
    "\n",
    "# for scip_var in [x, y, z]:\n",
    "#     print(f\"Variable {scip_var.name} has value {scip.getVal(scip_var)}\")"
   ]
  }
 ],
 "metadata": {
  "kernelspec": {
   "display_name": "cut_list_env",
   "language": "python",
   "name": "python3"
  },
  "language_info": {
   "codemirror_mode": {
    "name": "ipython",
    "version": 3
   },
   "file_extension": ".py",
   "mimetype": "text/x-python",
   "name": "python",
   "nbconvert_exporter": "python",
   "pygments_lexer": "ipython3",
   "version": "3.10.11"
  }
 },
 "nbformat": 4,
 "nbformat_minor": 2
}
